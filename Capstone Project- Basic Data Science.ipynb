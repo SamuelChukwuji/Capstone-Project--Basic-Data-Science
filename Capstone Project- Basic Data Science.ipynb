{
 "cells": [
  {
   "cell_type": "code",
   "execution_count": 1,
   "id": "31f10e89",
   "metadata": {},
   "outputs": [],
   "source": [
    "import pandas as pd\n",
    "import numpy as np\n",
    "import matplotlib.pyplot as plt\n",
    "%matplotlib inline\n",
    "import seaborn as sns\n",
    "from sklearn.preprocessing import StandardScaler, MinMaxScaler\n",
    "from sklearn.preprocessing import LabelEncoder\n",
    "from sklearn.model_selection import train_test_split\n",
    "from sklearn.feature_selection import SelectKBest\n",
    "from sklearn.feature_selection import mutual_info_classif\n",
    "from numpy import argmax\n",
    "from numpy import array\n",
    "from numpy import argmax"
   ]
  },
  {
   "cell_type": "code",
   "execution_count": 2,
   "id": "103ad1e5",
   "metadata": {},
   "outputs": [
    {
     "data": {
      "text/html": [
       "<div>\n",
       "<style scoped>\n",
       "    .dataframe tbody tr th:only-of-type {\n",
       "        vertical-align: middle;\n",
       "    }\n",
       "\n",
       "    .dataframe tbody tr th {\n",
       "        vertical-align: top;\n",
       "    }\n",
       "\n",
       "    .dataframe thead th {\n",
       "        text-align: right;\n",
       "    }\n",
       "</style>\n",
       "<table border=\"1\" class=\"dataframe\">\n",
       "  <thead>\n",
       "    <tr style=\"text-align: right;\">\n",
       "      <th></th>\n",
       "      <th>age</th>\n",
       "      <th>sex</th>\n",
       "      <th>bmi</th>\n",
       "      <th>children</th>\n",
       "      <th>smoker</th>\n",
       "      <th>region</th>\n",
       "      <th>charges</th>\n",
       "    </tr>\n",
       "  </thead>\n",
       "  <tbody>\n",
       "    <tr>\n",
       "      <th>0</th>\n",
       "      <td>19.0</td>\n",
       "      <td>female</td>\n",
       "      <td>27.900</td>\n",
       "      <td>0.0</td>\n",
       "      <td>yes</td>\n",
       "      <td>southwest</td>\n",
       "      <td>16884.92400</td>\n",
       "    </tr>\n",
       "    <tr>\n",
       "      <th>1</th>\n",
       "      <td>18.0</td>\n",
       "      <td>male</td>\n",
       "      <td>33.770</td>\n",
       "      <td>1.0</td>\n",
       "      <td>no</td>\n",
       "      <td>southeast</td>\n",
       "      <td>1725.55230</td>\n",
       "    </tr>\n",
       "    <tr>\n",
       "      <th>2</th>\n",
       "      <td>28.0</td>\n",
       "      <td>male</td>\n",
       "      <td>33.000</td>\n",
       "      <td>3.0</td>\n",
       "      <td>no</td>\n",
       "      <td>southeast</td>\n",
       "      <td>4449.46200</td>\n",
       "    </tr>\n",
       "    <tr>\n",
       "      <th>3</th>\n",
       "      <td>33.0</td>\n",
       "      <td>male</td>\n",
       "      <td>22.705</td>\n",
       "      <td>0.0</td>\n",
       "      <td>no</td>\n",
       "      <td>northwest</td>\n",
       "      <td>21984.47061</td>\n",
       "    </tr>\n",
       "    <tr>\n",
       "      <th>4</th>\n",
       "      <td>32.0</td>\n",
       "      <td>male</td>\n",
       "      <td>28.880</td>\n",
       "      <td>0.0</td>\n",
       "      <td>no</td>\n",
       "      <td>northwest</td>\n",
       "      <td>3866.85520</td>\n",
       "    </tr>\n",
       "    <tr>\n",
       "      <th>...</th>\n",
       "      <td>...</td>\n",
       "      <td>...</td>\n",
       "      <td>...</td>\n",
       "      <td>...</td>\n",
       "      <td>...</td>\n",
       "      <td>...</td>\n",
       "      <td>...</td>\n",
       "    </tr>\n",
       "    <tr>\n",
       "      <th>1335</th>\n",
       "      <td>18.0</td>\n",
       "      <td>female</td>\n",
       "      <td>36.850</td>\n",
       "      <td>0.0</td>\n",
       "      <td>no</td>\n",
       "      <td>southeast</td>\n",
       "      <td>1629.83350</td>\n",
       "    </tr>\n",
       "    <tr>\n",
       "      <th>1336</th>\n",
       "      <td>21.0</td>\n",
       "      <td>female</td>\n",
       "      <td>25.800</td>\n",
       "      <td>0.0</td>\n",
       "      <td>no</td>\n",
       "      <td>southwest</td>\n",
       "      <td>2007.94500</td>\n",
       "    </tr>\n",
       "    <tr>\n",
       "      <th>1337</th>\n",
       "      <td>61.0</td>\n",
       "      <td>female</td>\n",
       "      <td>29.070</td>\n",
       "      <td>0.0</td>\n",
       "      <td>yes</td>\n",
       "      <td>northwest</td>\n",
       "      <td>29141.36030</td>\n",
       "    </tr>\n",
       "    <tr>\n",
       "      <th>1338</th>\n",
       "      <td>27.0</td>\n",
       "      <td>NaN</td>\n",
       "      <td>NaN</td>\n",
       "      <td>NaN</td>\n",
       "      <td>NaN</td>\n",
       "      <td>NaN</td>\n",
       "      <td>NaN</td>\n",
       "    </tr>\n",
       "    <tr>\n",
       "      <th>1339</th>\n",
       "      <td>60.0</td>\n",
       "      <td>NaN</td>\n",
       "      <td>NaN</td>\n",
       "      <td>NaN</td>\n",
       "      <td>NaN</td>\n",
       "      <td>NaN</td>\n",
       "      <td>NaN</td>\n",
       "    </tr>\n",
       "  </tbody>\n",
       "</table>\n",
       "<p>1340 rows × 7 columns</p>\n",
       "</div>"
      ],
      "text/plain": [
       "       age     sex     bmi  children smoker     region      charges\n",
       "0     19.0  female  27.900       0.0    yes  southwest  16884.92400\n",
       "1     18.0    male  33.770       1.0     no  southeast   1725.55230\n",
       "2     28.0    male  33.000       3.0     no  southeast   4449.46200\n",
       "3     33.0    male  22.705       0.0     no  northwest  21984.47061\n",
       "4     32.0    male  28.880       0.0     no  northwest   3866.85520\n",
       "...    ...     ...     ...       ...    ...        ...          ...\n",
       "1335  18.0  female  36.850       0.0     no  southeast   1629.83350\n",
       "1336  21.0  female  25.800       0.0     no  southwest   2007.94500\n",
       "1337  61.0  female  29.070       0.0    yes  northwest  29141.36030\n",
       "1338  27.0     NaN     NaN       NaN    NaN        NaN          NaN\n",
       "1339  60.0     NaN     NaN       NaN    NaN        NaN          NaN\n",
       "\n",
       "[1340 rows x 7 columns]"
      ]
     },
     "execution_count": 2,
     "metadata": {},
     "output_type": "execute_result"
    }
   ],
   "source": [
    "C=pd.read_csv('insurance_dataset_capstone_14.csv')\n",
    "C"
   ]
  },
  {
   "cell_type": "markdown",
   "id": "d4f43992",
   "metadata": {},
   "source": [
    "1a. Analysing datatypes of features"
   ]
  },
  {
   "cell_type": "code",
   "execution_count": 3,
   "id": "4cd0fbeb",
   "metadata": {},
   "outputs": [
    {
     "name": "stdout",
     "output_type": "stream",
     "text": [
      "age         float64\n",
      "sex          object\n",
      "bmi         float64\n",
      "children    float64\n",
      "smoker       object\n",
      "region       object\n",
      "charges     float64\n",
      "dtype: object\n"
     ]
    }
   ],
   "source": [
    "print(C.dtypes)"
   ]
  },
  {
   "cell_type": "markdown",
   "id": "c87b5287",
   "metadata": {},
   "source": [
    "1b. Checking for null values and removing them with appropriate method."
   ]
  },
  {
   "cell_type": "code",
   "execution_count": 4,
   "id": "f91745ef",
   "metadata": {},
   "outputs": [
    {
     "data": {
      "text/plain": [
       "(1340, 7)"
      ]
     },
     "execution_count": 4,
     "metadata": {},
     "output_type": "execute_result"
    }
   ],
   "source": [
    "#first i check the current shape of my dataset\n",
    "C.shape"
   ]
  },
  {
   "cell_type": "code",
   "execution_count": 5,
   "id": "de071cba",
   "metadata": {},
   "outputs": [
    {
     "data": {
      "text/plain": [
       "age         6\n",
       "sex         2\n",
       "bmi         2\n",
       "children    2\n",
       "smoker      2\n",
       "region      2\n",
       "charges     2\n",
       "dtype: int64"
      ]
     },
     "execution_count": 5,
     "metadata": {},
     "output_type": "execute_result"
    }
   ],
   "source": [
    "C.isna().sum()\n",
    "#from the output age column has 6 null valus while the rest have 2 each."
   ]
  },
  {
   "cell_type": "code",
   "execution_count": 6,
   "id": "35236b8f",
   "metadata": {},
   "outputs": [
    {
     "data": {
      "text/plain": [
       "age\n",
       "18.0    69\n",
       "19.0    68\n",
       "20.0    29\n",
       "52.0    29\n",
       "27.0    29\n",
       "48.0    29\n",
       "45.0    29\n",
       "46.0    29\n",
       "47.0    29\n",
       "51.0    29\n",
       "50.0    29\n",
       "54.0    28\n",
       "22.0    28\n",
       "53.0    28\n",
       "49.0    28\n",
       "21.0    28\n",
       "26.0    28\n",
       "24.0    28\n",
       "23.0    28\n",
       "25.0    28\n",
       "28.0    28\n",
       "43.0    27\n",
       "29.0    27\n",
       "44.0    27\n",
       "42.0    27\n",
       "40.0    27\n",
       "31.0    27\n",
       "41.0    27\n",
       "30.0    27\n",
       "56.0    26\n",
       "32.0    26\n",
       "55.0    26\n",
       "33.0    26\n",
       "34.0    26\n",
       "57.0    26\n",
       "36.0    25\n",
       "38.0    25\n",
       "35.0    25\n",
       "59.0    25\n",
       "37.0    25\n",
       "58.0    25\n",
       "60.0    24\n",
       "63.0    23\n",
       "61.0    23\n",
       "62.0    23\n",
       "64.0    22\n",
       "39.0    19\n",
       "Name: count, dtype: int64"
      ]
     },
     "execution_count": 6,
     "metadata": {},
     "output_type": "execute_result"
    }
   ],
   "source": [
    "#to remove the null values, i have to check if the values are discrete or continuous in other to know which method to apply.\n",
    "# i will do this by doing the value counts of each column\n",
    "C['age'].value_counts()"
   ]
  },
  {
   "cell_type": "code",
   "execution_count": 7,
   "id": "6c434830",
   "metadata": {},
   "outputs": [
    {
     "data": {
      "text/plain": [
       "age            39.214393\n",
       "bmi            30.663397\n",
       "children        1.094918\n",
       "charges     13270.422265\n",
       "dtype: float64"
      ]
     },
     "execution_count": 7,
     "metadata": {},
     "output_type": "execute_result"
    }
   ],
   "source": [
    "# age has continuous values therefore i will replace the null values with the mean of all age.\n",
    "C.mean(numeric_only=True)"
   ]
  },
  {
   "cell_type": "code",
   "execution_count": 8,
   "id": "1a16b41a",
   "metadata": {},
   "outputs": [
    {
     "data": {
      "text/plain": [
       "0       19.0\n",
       "1       18.0\n",
       "2       28.0\n",
       "3       33.0\n",
       "4       32.0\n",
       "        ... \n",
       "1335    18.0\n",
       "1336    21.0\n",
       "1337    61.0\n",
       "1338    27.0\n",
       "1339    60.0\n",
       "Name: age, Length: 1340, dtype: float64"
      ]
     },
     "execution_count": 8,
     "metadata": {},
     "output_type": "execute_result"
    }
   ],
   "source": [
    "C['age'].fillna(value=C['age'].mean())"
   ]
  },
  {
   "cell_type": "code",
   "execution_count": 9,
   "id": "49ad7fd5",
   "metadata": {},
   "outputs": [
    {
     "name": "stdout",
     "output_type": "stream",
     "text": [
      "age         0\n",
      "sex         2\n",
      "bmi         2\n",
      "children    2\n",
      "smoker      2\n",
      "region      2\n",
      "charges     2\n",
      "dtype: int64\n"
     ]
    }
   ],
   "source": [
    "C['age']=C['age'].fillna(value=C['age'].mean())\n",
    "print(C.isna().sum())"
   ]
  },
  {
   "cell_type": "code",
   "execution_count": 10,
   "id": "bd3ad491",
   "metadata": {},
   "outputs": [
    {
     "data": {
      "text/plain": [
       "sex\n",
       "male      676\n",
       "female    662\n",
       "Name: count, dtype: int64"
      ]
     },
     "execution_count": 10,
     "metadata": {},
     "output_type": "execute_result"
    }
   ],
   "source": [
    "#for sex column\n",
    "C['sex'].value_counts()"
   ]
  },
  {
   "cell_type": "code",
   "execution_count": 11,
   "id": "e61cc4fc",
   "metadata": {},
   "outputs": [
    {
     "data": {
      "text/plain": [
       "0    male\n",
       "Name: sex, dtype: object"
      ]
     },
     "execution_count": 11,
     "metadata": {},
     "output_type": "execute_result"
    }
   ],
   "source": [
    "#sex is a discrete value as every row is categorized in to male or female\n",
    "#so we will replace the null values with the mode value\n",
    "mod_value=C['sex'].mode()\n",
    "mod_value"
   ]
  },
  {
   "cell_type": "code",
   "execution_count": 12,
   "id": "5560b443",
   "metadata": {},
   "outputs": [
    {
     "name": "stdout",
     "output_type": "stream",
     "text": [
      "<class 'pandas.core.series.Series'>\n"
     ]
    }
   ],
   "source": [
    "print(type(mod_value))"
   ]
  },
  {
   "cell_type": "code",
   "execution_count": 13,
   "id": "5c6b5b6e",
   "metadata": {},
   "outputs": [
    {
     "data": {
      "text/plain": [
       "0       female\n",
       "1         male\n",
       "2         male\n",
       "3         male\n",
       "4         male\n",
       "         ...  \n",
       "1335    female\n",
       "1336    female\n",
       "1337    female\n",
       "1338      male\n",
       "1339      male\n",
       "Name: sex, Length: 1340, dtype: object"
      ]
     },
     "execution_count": 13,
     "metadata": {},
     "output_type": "execute_result"
    }
   ],
   "source": [
    "C['sex']=C['sex'].fillna(value=mod_value[0])\n",
    "C['sex']"
   ]
  },
  {
   "cell_type": "code",
   "execution_count": 14,
   "id": "c27dc729",
   "metadata": {},
   "outputs": [
    {
     "name": "stdout",
     "output_type": "stream",
     "text": [
      "age         0\n",
      "sex         0\n",
      "bmi         2\n",
      "children    2\n",
      "smoker      2\n",
      "region      2\n",
      "charges     2\n",
      "dtype: int64\n"
     ]
    }
   ],
   "source": [
    "print(C.isna().sum())"
   ]
  },
  {
   "cell_type": "code",
   "execution_count": 15,
   "id": "690a6939",
   "metadata": {},
   "outputs": [
    {
     "data": {
      "text/plain": [
       "bmi\n",
       "32.300    13\n",
       "28.310     9\n",
       "30.495     8\n",
       "30.875     8\n",
       "31.350     8\n",
       "          ..\n",
       "46.200     1\n",
       "23.800     1\n",
       "44.770     1\n",
       "32.120     1\n",
       "30.970     1\n",
       "Name: count, Length: 548, dtype: int64"
      ]
     },
     "execution_count": 15,
     "metadata": {},
     "output_type": "execute_result"
    }
   ],
   "source": [
    "#for bmi\n",
    "#value counts show it is a continuous value so we replace null values with the mean\n",
    "C['bmi'].value_counts()"
   ]
  },
  {
   "cell_type": "code",
   "execution_count": 16,
   "id": "df3857b6",
   "metadata": {},
   "outputs": [
    {
     "data": {
      "text/plain": [
       "0       27.900000\n",
       "1       33.770000\n",
       "2       33.000000\n",
       "3       22.705000\n",
       "4       28.880000\n",
       "          ...    \n",
       "1335    36.850000\n",
       "1336    25.800000\n",
       "1337    29.070000\n",
       "1338    30.663397\n",
       "1339    30.663397\n",
       "Name: bmi, Length: 1340, dtype: float64"
      ]
     },
     "execution_count": 16,
     "metadata": {},
     "output_type": "execute_result"
    }
   ],
   "source": [
    "C['bmi']=C['bmi'].fillna(value=C['bmi'].mean())\n",
    "C['bmi']"
   ]
  },
  {
   "cell_type": "code",
   "execution_count": 17,
   "id": "0399e0ed",
   "metadata": {},
   "outputs": [
    {
     "data": {
      "text/plain": [
       "age         0\n",
       "sex         0\n",
       "bmi         0\n",
       "children    2\n",
       "smoker      2\n",
       "region      2\n",
       "charges     2\n",
       "dtype: int64"
      ]
     },
     "execution_count": 17,
     "metadata": {},
     "output_type": "execute_result"
    }
   ],
   "source": [
    "C.isna().sum()"
   ]
  },
  {
   "cell_type": "code",
   "execution_count": 18,
   "id": "c68f2379",
   "metadata": {},
   "outputs": [
    {
     "data": {
      "text/plain": [
       "children\n",
       "0.0    574\n",
       "1.0    324\n",
       "2.0    240\n",
       "3.0    157\n",
       "4.0     25\n",
       "5.0     18\n",
       "Name: count, dtype: int64"
      ]
     },
     "execution_count": 18,
     "metadata": {},
     "output_type": "execute_result"
    }
   ],
   "source": [
    "C['children'].value_counts()\n",
    "#Children is categorized between 0 to 5 hence can be considered as categorical\n",
    "# we will use the mode value to replace null"
   ]
  },
  {
   "cell_type": "code",
   "execution_count": 19,
   "id": "b9ebab02",
   "metadata": {},
   "outputs": [
    {
     "data": {
      "text/plain": [
       "0    0.0\n",
       "Name: children, dtype: float64"
      ]
     },
     "execution_count": 19,
     "metadata": {},
     "output_type": "execute_result"
    }
   ],
   "source": [
    "mod_v=C['children'].mode()\n",
    "mod_v"
   ]
  },
  {
   "cell_type": "code",
   "execution_count": 20,
   "id": "ed5eed4e",
   "metadata": {},
   "outputs": [
    {
     "data": {
      "text/plain": [
       "0       0.0\n",
       "1       1.0\n",
       "2       3.0\n",
       "3       0.0\n",
       "4       0.0\n",
       "       ... \n",
       "1335    0.0\n",
       "1336    0.0\n",
       "1337    0.0\n",
       "1338    0.0\n",
       "1339    0.0\n",
       "Name: children, Length: 1340, dtype: float64"
      ]
     },
     "execution_count": 20,
     "metadata": {},
     "output_type": "execute_result"
    }
   ],
   "source": [
    "C['children']=C['children'].fillna(value=mod_v[0])\n",
    "C['children']"
   ]
  },
  {
   "cell_type": "code",
   "execution_count": 21,
   "id": "730dfdbe",
   "metadata": {},
   "outputs": [
    {
     "data": {
      "text/plain": [
       "age         0\n",
       "sex         0\n",
       "bmi         0\n",
       "children    0\n",
       "smoker      2\n",
       "region      2\n",
       "charges     2\n",
       "dtype: int64"
      ]
     },
     "execution_count": 21,
     "metadata": {},
     "output_type": "execute_result"
    }
   ],
   "source": [
    "C.isna().sum()"
   ]
  },
  {
   "cell_type": "code",
   "execution_count": 22,
   "id": "7f6fcc47",
   "metadata": {},
   "outputs": [
    {
     "data": {
      "text/plain": [
       "smoker\n",
       "no     1064\n",
       "yes     274\n",
       "Name: count, dtype: int64"
      ]
     },
     "execution_count": 22,
     "metadata": {},
     "output_type": "execute_result"
    }
   ],
   "source": [
    "C['smoker'].value_counts()\n",
    "#smoker column is categorical, therefore i will replace null value with mode"
   ]
  },
  {
   "cell_type": "code",
   "execution_count": 23,
   "id": "eed64cc0",
   "metadata": {},
   "outputs": [
    {
     "data": {
      "text/plain": [
       "0    no\n",
       "Name: smoker, dtype: object"
      ]
     },
     "execution_count": 23,
     "metadata": {},
     "output_type": "execute_result"
    }
   ],
   "source": [
    "mod_s=C['smoker'].mode()\n",
    "mod_s"
   ]
  },
  {
   "cell_type": "code",
   "execution_count": 24,
   "id": "3fc72f8b",
   "metadata": {},
   "outputs": [
    {
     "data": {
      "text/plain": [
       "0       yes\n",
       "1        no\n",
       "2        no\n",
       "3        no\n",
       "4        no\n",
       "       ... \n",
       "1335     no\n",
       "1336     no\n",
       "1337    yes\n",
       "1338     no\n",
       "1339     no\n",
       "Name: smoker, Length: 1340, dtype: object"
      ]
     },
     "execution_count": 24,
     "metadata": {},
     "output_type": "execute_result"
    }
   ],
   "source": [
    "C['smoker']=C['smoker'].fillna(value=mod_s[0])\n",
    "C['smoker']"
   ]
  },
  {
   "cell_type": "code",
   "execution_count": 25,
   "id": "e4e65d2c",
   "metadata": {},
   "outputs": [
    {
     "data": {
      "text/plain": [
       "age         0\n",
       "sex         0\n",
       "bmi         0\n",
       "children    0\n",
       "smoker      0\n",
       "region      2\n",
       "charges     2\n",
       "dtype: int64"
      ]
     },
     "execution_count": 25,
     "metadata": {},
     "output_type": "execute_result"
    }
   ],
   "source": [
    "C.isna().sum()"
   ]
  },
  {
   "cell_type": "code",
   "execution_count": 26,
   "id": "0671d35e",
   "metadata": {},
   "outputs": [
    {
     "data": {
      "text/plain": [
       "region\n",
       "southeast    364\n",
       "southwest    325\n",
       "northwest    325\n",
       "northeast    324\n",
       "Name: count, dtype: int64"
      ]
     },
     "execution_count": 26,
     "metadata": {},
     "output_type": "execute_result"
    }
   ],
   "source": [
    "C['region'].value_counts()\n",
    "#region is also categorical therefore i will use the mode value as well"
   ]
  },
  {
   "cell_type": "code",
   "execution_count": 27,
   "id": "2c7aee7c",
   "metadata": {},
   "outputs": [
    {
     "data": {
      "text/plain": [
       "0    southeast\n",
       "Name: region, dtype: object"
      ]
     },
     "execution_count": 27,
     "metadata": {},
     "output_type": "execute_result"
    }
   ],
   "source": [
    "mod_r=C['region'].mode()\n",
    "mod_r"
   ]
  },
  {
   "cell_type": "code",
   "execution_count": 28,
   "id": "6a4c755f",
   "metadata": {},
   "outputs": [
    {
     "data": {
      "text/plain": [
       "0       southwest\n",
       "1       southeast\n",
       "2       southeast\n",
       "3       northwest\n",
       "4       northwest\n",
       "          ...    \n",
       "1335    southeast\n",
       "1336    southwest\n",
       "1337    northwest\n",
       "1338    southeast\n",
       "1339    southeast\n",
       "Name: region, Length: 1340, dtype: object"
      ]
     },
     "execution_count": 28,
     "metadata": {},
     "output_type": "execute_result"
    }
   ],
   "source": [
    "C['region']=C['region'].fillna(value=mod_r[0])\n",
    "C['region']"
   ]
  },
  {
   "cell_type": "code",
   "execution_count": 29,
   "id": "7f621f6f",
   "metadata": {},
   "outputs": [
    {
     "data": {
      "text/plain": [
       "age         0\n",
       "sex         0\n",
       "bmi         0\n",
       "children    0\n",
       "smoker      0\n",
       "region      0\n",
       "charges     2\n",
       "dtype: int64"
      ]
     },
     "execution_count": 29,
     "metadata": {},
     "output_type": "execute_result"
    }
   ],
   "source": [
    "C.isna().sum()"
   ]
  },
  {
   "cell_type": "code",
   "execution_count": 30,
   "id": "9dd41d24",
   "metadata": {},
   "outputs": [
    {
     "data": {
      "text/plain": [
       "charges\n",
       "1639.56310     2\n",
       "16884.92400    1\n",
       "29330.98315    1\n",
       "2221.56445     1\n",
       "19798.05455    1\n",
       "              ..\n",
       "7345.08400     1\n",
       "26109.32905    1\n",
       "28287.89766    1\n",
       "1149.39590     1\n",
       "29141.36030    1\n",
       "Name: count, Length: 1337, dtype: int64"
      ]
     },
     "execution_count": 30,
     "metadata": {},
     "output_type": "execute_result"
    }
   ],
   "source": [
    "#charges contain continuous values therefore i will replace null values with the mean\n",
    "C['charges'].value_counts()"
   ]
  },
  {
   "cell_type": "code",
   "execution_count": 31,
   "id": "75460f30",
   "metadata": {},
   "outputs": [
    {
     "data": {
      "text/plain": [
       "0       16884.924000\n",
       "1        1725.552300\n",
       "2        4449.462000\n",
       "3       21984.470610\n",
       "4        3866.855200\n",
       "            ...     \n",
       "1335     1629.833500\n",
       "1336     2007.945000\n",
       "1337    29141.360300\n",
       "1338    13270.422265\n",
       "1339    13270.422265\n",
       "Name: charges, Length: 1340, dtype: float64"
      ]
     },
     "execution_count": 31,
     "metadata": {},
     "output_type": "execute_result"
    }
   ],
   "source": [
    "C['charges']=C['charges'].fillna(value=C['charges'].mean())\n",
    "C['charges']"
   ]
  },
  {
   "cell_type": "code",
   "execution_count": 32,
   "id": "576ff698",
   "metadata": {},
   "outputs": [
    {
     "data": {
      "text/plain": [
       "age         0\n",
       "sex         0\n",
       "bmi         0\n",
       "children    0\n",
       "smoker      0\n",
       "region      0\n",
       "charges     0\n",
       "dtype: int64"
      ]
     },
     "execution_count": 32,
     "metadata": {},
     "output_type": "execute_result"
    }
   ],
   "source": [
    "C.isna().sum()\n",
    "#now i have gotten rid of all null values."
   ]
  },
  {
   "cell_type": "markdown",
   "id": "6a4eef94",
   "metadata": {},
   "source": [
    "2a. I check for duplicates and drop them."
   ]
  },
  {
   "cell_type": "code",
   "execution_count": 33,
   "id": "8eabb4ec",
   "metadata": {},
   "outputs": [
    {
     "data": {
      "text/plain": [
       "1"
      ]
     },
     "execution_count": 33,
     "metadata": {},
     "output_type": "execute_result"
    }
   ],
   "source": [
    "C.duplicated().sum()"
   ]
  },
  {
   "cell_type": "code",
   "execution_count": 34,
   "id": "6c59ea15",
   "metadata": {},
   "outputs": [],
   "source": [
    "C=C.drop_duplicates()"
   ]
  },
  {
   "cell_type": "code",
   "execution_count": 35,
   "id": "19e141bf",
   "metadata": {},
   "outputs": [
    {
     "data": {
      "text/plain": [
       "0"
      ]
     },
     "execution_count": 35,
     "metadata": {},
     "output_type": "execute_result"
    }
   ],
   "source": [
    "C.duplicated().sum()"
   ]
  },
  {
   "cell_type": "code",
   "execution_count": 36,
   "id": "35485080",
   "metadata": {},
   "outputs": [
    {
     "data": {
      "text/plain": [
       "(1339, 7)"
      ]
     },
     "execution_count": 36,
     "metadata": {},
     "output_type": "execute_result"
    }
   ],
   "source": [
    "C.shape"
   ]
  },
  {
   "cell_type": "markdown",
   "id": "03599e7a",
   "metadata": {},
   "source": [
    "2b. I remove outliers"
   ]
  },
  {
   "cell_type": "code",
   "execution_count": 37,
   "id": "728b03bd",
   "metadata": {},
   "outputs": [
    {
     "data": {
      "text/html": [
       "<div>\n",
       "<style scoped>\n",
       "    .dataframe tbody tr th:only-of-type {\n",
       "        vertical-align: middle;\n",
       "    }\n",
       "\n",
       "    .dataframe tbody tr th {\n",
       "        vertical-align: top;\n",
       "    }\n",
       "\n",
       "    .dataframe thead th {\n",
       "        text-align: right;\n",
       "    }\n",
       "</style>\n",
       "<table border=\"1\" class=\"dataframe\">\n",
       "  <thead>\n",
       "    <tr style=\"text-align: right;\">\n",
       "      <th></th>\n",
       "      <th>age</th>\n",
       "      <th>bmi</th>\n",
       "      <th>children</th>\n",
       "      <th>charges</th>\n",
       "    </tr>\n",
       "  </thead>\n",
       "  <tbody>\n",
       "    <tr>\n",
       "      <th>count</th>\n",
       "      <td>1339.000000</td>\n",
       "      <td>1339.000000</td>\n",
       "      <td>1339.000000</td>\n",
       "      <td>1339.000000</td>\n",
       "    </tr>\n",
       "    <tr>\n",
       "      <th>mean</th>\n",
       "      <td>39.229489</td>\n",
       "      <td>30.663452</td>\n",
       "      <td>1.094100</td>\n",
       "      <td>13279.108493</td>\n",
       "    </tr>\n",
       "    <tr>\n",
       "      <th>std</th>\n",
       "      <td>14.049287</td>\n",
       "      <td>6.095907</td>\n",
       "      <td>1.205414</td>\n",
       "      <td>12101.305185</td>\n",
       "    </tr>\n",
       "    <tr>\n",
       "      <th>min</th>\n",
       "      <td>18.000000</td>\n",
       "      <td>15.960000</td>\n",
       "      <td>0.000000</td>\n",
       "      <td>1121.873900</td>\n",
       "    </tr>\n",
       "    <tr>\n",
       "      <th>25%</th>\n",
       "      <td>27.000000</td>\n",
       "      <td>26.302500</td>\n",
       "      <td>0.000000</td>\n",
       "      <td>4746.698450</td>\n",
       "    </tr>\n",
       "    <tr>\n",
       "      <th>50%</th>\n",
       "      <td>39.214393</td>\n",
       "      <td>30.400000</td>\n",
       "      <td>1.000000</td>\n",
       "      <td>9391.346000</td>\n",
       "    </tr>\n",
       "    <tr>\n",
       "      <th>75%</th>\n",
       "      <td>51.000000</td>\n",
       "      <td>34.687500</td>\n",
       "      <td>2.000000</td>\n",
       "      <td>16622.107580</td>\n",
       "    </tr>\n",
       "    <tr>\n",
       "      <th>max</th>\n",
       "      <td>64.000000</td>\n",
       "      <td>53.130000</td>\n",
       "      <td>5.000000</td>\n",
       "      <td>63770.428010</td>\n",
       "    </tr>\n",
       "  </tbody>\n",
       "</table>\n",
       "</div>"
      ],
      "text/plain": [
       "               age          bmi     children       charges\n",
       "count  1339.000000  1339.000000  1339.000000   1339.000000\n",
       "mean     39.229489    30.663452     1.094100  13279.108493\n",
       "std      14.049287     6.095907     1.205414  12101.305185\n",
       "min      18.000000    15.960000     0.000000   1121.873900\n",
       "25%      27.000000    26.302500     0.000000   4746.698450\n",
       "50%      39.214393    30.400000     1.000000   9391.346000\n",
       "75%      51.000000    34.687500     2.000000  16622.107580\n",
       "max      64.000000    53.130000     5.000000  63770.428010"
      ]
     },
     "execution_count": 37,
     "metadata": {},
     "output_type": "execute_result"
    }
   ],
   "source": [
    "C.describe()"
   ]
  },
  {
   "cell_type": "code",
   "execution_count": 38,
   "id": "ff1c314f",
   "metadata": {},
   "outputs": [
    {
     "name": "stdout",
     "output_type": "stream",
     "text": [
      "26.302500000000002 34.6875\n"
     ]
    },
    {
     "data": {
      "text/plain": [
       "8.384999999999998"
      ]
     },
     "execution_count": 38,
     "metadata": {},
     "output_type": "execute_result"
    }
   ],
   "source": [
    "#using statistical method to remove outliers from bmi column\n",
    "q1 = np.quantile(C['bmi'], 0.25)\n",
    "q3 = np.quantile(C['bmi'], 0.75)\n",
    "print(q1,q3)\n",
    "IQR = q3-q1\n",
    "IQR"
   ]
  },
  {
   "cell_type": "code",
   "execution_count": 39,
   "id": "aa11a956",
   "metadata": {},
   "outputs": [
    {
     "data": {
      "text/plain": [
       "<Axes: ylabel='bmi'>"
      ]
     },
     "execution_count": 39,
     "metadata": {},
     "output_type": "execute_result"
    },
    {
     "data": {
      "image/png": "[encoded data removed]",
      "text/plain": [
       "<Figure size 640x480 with 1 Axes>"
      ]
     },
     "metadata": {},
     "output_type": "display_data"
    }
   ],
   "source": [
    "sns.boxplot(data=C, y='bmi')"
   ]
  },
  {
   "cell_type": "code",
   "execution_count": 40,
   "id": "fe9194d7",
   "metadata": {},
   "outputs": [
    {
     "name": "stdout",
     "output_type": "stream",
     "text": [
      "13.725000000000005 47.265\n"
     ]
    }
   ],
   "source": [
    "lower_limit = q1 - 1.5*IQR\n",
    "upper_limit = q3 + 1.5*IQR\n",
    "print(lower_limit,upper_limit)"
   ]
  },
  {
   "cell_type": "code",
   "execution_count": 41,
   "id": "a0538f07",
   "metadata": {},
   "outputs": [
    {
     "name": "stdout",
     "output_type": "stream",
     "text": [
      "Index([116, 286, 401, 543, 847, 860, 1047, 1088, 1317], dtype='int64')\n"
     ]
    }
   ],
   "source": [
    "bmi_index = C.index[ (C['bmi'] < lower_limit) | (C['bmi'] > upper_limit) ]\n",
    "print(bmi_index)"
   ]
  },
  {
   "cell_type": "code",
   "execution_count": 42,
   "id": "3d73ab51",
   "metadata": {},
   "outputs": [
    {
     "name": "stdout",
     "output_type": "stream",
     "text": [
      "(1330, 7)\n"
     ]
    }
   ],
   "source": [
    "C = C.drop(bmi_index)\n",
    "print(C.shape)"
   ]
  },
  {
   "cell_type": "code",
   "execution_count": 43,
   "id": "43bd2fa4",
   "metadata": {},
   "outputs": [
    {
     "data": {
      "text/plain": [
       "<Axes: ylabel='charges'>"
      ]
     },
     "execution_count": 43,
     "metadata": {},
     "output_type": "execute_result"
    },
    {
     "data": {
      "image/png": "[encoded data removed]",
      "text/plain": [
       "<Figure size 640x480 with 1 Axes>"
      ]
     },
     "metadata": {},
     "output_type": "display_data"
    }
   ],
   "source": [
    "sns.boxplot(data=C, y='charges')"
   ]
  },
  {
   "cell_type": "code",
   "execution_count": 44,
   "id": "1e81d039",
   "metadata": {},
   "outputs": [
    {
     "name": "stdout",
     "output_type": "stream",
     "text": [
      "4746.521225 16584.318157499998\n"
     ]
    },
    {
     "data": {
      "text/plain": [
       "11837.796932499998"
      ]
     },
     "execution_count": 44,
     "metadata": {},
     "output_type": "execute_result"
    }
   ],
   "source": [
    "q1 = np.quantile(C['charges'], 0.25)\n",
    "q3 = np.quantile(C['charges'], 0.75)\n",
    "print(q1,q3)\n",
    "IQR = q3-q1\n",
    "IQR"
   ]
  },
  {
   "cell_type": "code",
   "execution_count": 45,
   "id": "7faf5bec",
   "metadata": {},
   "outputs": [
    {
     "name": "stdout",
     "output_type": "stream",
     "text": [
      "-13010.174173749994 34341.01355624999\n"
     ]
    }
   ],
   "source": [
    "lower_limit = q1 - 1.5*IQR\n",
    "upper_limit = q3 + 1.5*IQR\n",
    "print(lower_limit,upper_limit)"
   ]
  },
  {
   "cell_type": "code",
   "execution_count": 46,
   "id": "7008042b",
   "metadata": {},
   "outputs": [
    {
     "name": "stdout",
     "output_type": "stream",
     "text": [
      "Index([  14,   19,   23,   29,   30,   34,   38,   39,   49,   53,\n",
      "       ...\n",
      "       1241, 1249, 1284, 1288, 1291, 1300, 1301, 1303, 1313, 1323],\n",
      "      dtype='int64', length=138)\n"
     ]
    }
   ],
   "source": [
    "charges_index = C.index[ (C['charges'] < lower_limit) | (C['charges'] > upper_limit) ]\n",
    "print(charges_index)"
   ]
  },
  {
   "cell_type": "code",
   "execution_count": 47,
   "id": "daf68bcf",
   "metadata": {},
   "outputs": [
    {
     "name": "stdout",
     "output_type": "stream",
     "text": [
      "(1192, 7)\n"
     ]
    }
   ],
   "source": [
    "C = C.drop(charges_index)\n",
    "print(C.shape)"
   ]
  },
  {
   "cell_type": "code",
   "execution_count": 48,
   "id": "0b24b997",
   "metadata": {},
   "outputs": [
    {
     "name": "stdout",
     "output_type": "stream",
     "text": [
      "age         float64\n",
      "sex          object\n",
      "bmi         float64\n",
      "children    float64\n",
      "smoker       object\n",
      "region       object\n",
      "charges     float64\n",
      "dtype: object\n"
     ]
    }
   ],
   "source": [
    "print(C.dtypes)"
   ]
  },
  {
   "cell_type": "code",
   "execution_count": 49,
   "id": "5ca87721",
   "metadata": {},
   "outputs": [],
   "source": [
    "C['sex']=C['sex'].astype('category')\n",
    "C['children']=C['children'].astype('category')\n",
    "C['smoker']=C['smoker'].astype('category')\n",
    "C['region']=C['region'].astype('category')"
   ]
  },
  {
   "cell_type": "code",
   "execution_count": 50,
   "id": "630910b9",
   "metadata": {},
   "outputs": [
    {
     "name": "stdout",
     "output_type": "stream",
     "text": [
      "age          float64\n",
      "sex         category\n",
      "bmi          float64\n",
      "children    category\n",
      "smoker      category\n",
      "region      category\n",
      "charges      float64\n",
      "dtype: object\n"
     ]
    }
   ],
   "source": [
    "print(C.dtypes)"
   ]
  },
  {
   "cell_type": "code",
   "execution_count": 51,
   "id": "c3918dff",
   "metadata": {},
   "outputs": [
    {
     "data": {
      "text/plain": [
       "<Axes: xlabel='sex', ylabel='count'>"
      ]
     },
     "execution_count": 51,
     "metadata": {},
     "output_type": "execute_result"
    },
    {
     "data": {
      "image/png": "[encoded data removed]",
      "text/plain": [
       "<Figure size 640x480 with 1 Axes>"
      ]
     },
     "metadata": {},
     "output_type": "display_data"
    }
   ],
   "source": [
    "# i will draw a countplot for categorical features\n",
    "sns.countplot(data=C,x='sex',hue='smoker')"
   ]
  },
  {
   "cell_type": "code",
   "execution_count": 52,
   "id": "e167c5da",
   "metadata": {},
   "outputs": [
    {
     "data": {
      "text/plain": [
       "<Axes: xlabel='children', ylabel='count'>"
      ]
     },
     "execution_count": 52,
     "metadata": {},
     "output_type": "execute_result"
    },
    {
     "data": {
      "image/png": "[encoded data removed]",
      "text/plain": [
       "<Figure size 640x480 with 1 Axes>"
      ]
     },
     "metadata": {},
     "output_type": "display_data"
    }
   ],
   "source": [
    "sns.countplot(data=C,x='children')"
   ]
  },
  {
   "cell_type": "code",
   "execution_count": 53,
   "id": "702ad08c",
   "metadata": {},
   "outputs": [
    {
     "data": {
      "text/plain": [
       "<Axes: xlabel='smoker', ylabel='count'>"
      ]
     },
     "execution_count": 53,
     "metadata": {},
     "output_type": "execute_result"
    },
    {
     "data": {
      "image/png": "[encoded data removed]",
      "text/plain": [
       "<Figure size 640x480 with 1 Axes>"
      ]
     },
     "metadata": {},
     "output_type": "display_data"
    }
   ],
   "source": [
    "sns.countplot(data=C,x='smoker')"
   ]
  },
  {
   "cell_type": "code",
   "execution_count": 54,
   "id": "4ae24c85",
   "metadata": {},
   "outputs": [
    {
     "data": {
      "image/png": "[encoded data removed]",
      "text/plain": [
       "<Figure size 500x300 with 1 Axes>"
      ]
     },
     "metadata": {},
     "output_type": "display_data"
    }
   ],
   "source": [
    "plt.figure(figsize=(5,3))\n",
    "sns.countplot(data=C,x='region')\n",
    "plt.show()"
   ]
  },
  {
   "cell_type": "code",
   "execution_count": 55,
   "id": "0337bc9a",
   "metadata": {},
   "outputs": [
    {
     "data": {
      "text/plain": [
       "<Axes: xlabel='region', ylabel='count'>"
      ]
     },
     "execution_count": 55,
     "metadata": {},
     "output_type": "execute_result"
    },
    {
     "data": {
      "image/png": "[encoded data removed]",
      "text/plain": [
       "<Figure size 640x480 with 1 Axes>"
      ]
     },
     "metadata": {},
     "output_type": "display_data"
    }
   ],
   "source": [
    "sns.countplot(data=C,x='region', hue='smoker')"
   ]
  },
  {
   "cell_type": "code",
   "execution_count": 56,
   "id": "08d4f20d",
   "metadata": {},
   "outputs": [
    {
     "name": "stderr",
     "output_type": "stream",
     "text": [
      "C:\\Users\\Samue\\anaconda3\\Lib\\site-packages\\seaborn\\axisgrid.py:118: UserWarning: The figure layout has changed to tight\n",
      "  self._figure.tight_layout(*args, **kwargs)\n"
     ]
    },
    {
     "data": {
      "text/plain": [
       "<seaborn.axisgrid.FacetGrid at 0x24388e3ec90>"
      ]
     },
     "execution_count": 56,
     "metadata": {},
     "output_type": "execute_result"
    },
    {
     "data": {
      "image/png": "[encoded data removed]",
      "text/plain": [
       "<Figure size 500x500 with 1 Axes>"
      ]
     },
     "metadata": {},
     "output_type": "display_data"
    }
   ],
   "source": [
    "# i will draw a histogram for numeric features\n",
    "sns.displot(data=C, x='age',bins=10)"
   ]
  },
  {
   "cell_type": "code",
   "execution_count": 57,
   "id": "5a9f18ad",
   "metadata": {},
   "outputs": [
    {
     "name": "stderr",
     "output_type": "stream",
     "text": [
      "C:\\Users\\Samue\\anaconda3\\Lib\\site-packages\\seaborn\\axisgrid.py:118: UserWarning: The figure layout has changed to tight\n",
      "  self._figure.tight_layout(*args, **kwargs)\n"
     ]
    },
    {
     "data": {
      "text/plain": [
       "<seaborn.axisgrid.FacetGrid at 0x24388f5acd0>"
      ]
     },
     "execution_count": 57,
     "metadata": {},
     "output_type": "execute_result"
    },
    {
     "data": {
      "image/png": "[encoded data removed]",
      "text/plain": [
       "<Figure size 500x500 with 1 Axes>"
      ]
     },
     "metadata": {},
     "output_type": "display_data"
    }
   ],
   "source": [
    "sns.displot(data=C, x='bmi',bins=10,kde=True)"
   ]
  },
  {
   "cell_type": "code",
   "execution_count": 58,
   "id": "b596c5a1",
   "metadata": {},
   "outputs": [
    {
     "name": "stderr",
     "output_type": "stream",
     "text": [
      "C:\\Users\\Samue\\anaconda3\\Lib\\site-packages\\seaborn\\axisgrid.py:118: UserWarning: The figure layout has changed to tight\n",
      "  self._figure.tight_layout(*args, **kwargs)\n"
     ]
    },
    {
     "data": {
      "text/plain": [
       "<seaborn.axisgrid.FacetGrid at 0x24388f49410>"
      ]
     },
     "execution_count": 58,
     "metadata": {},
     "output_type": "execute_result"
    },
    {
     "data": {
      "image/png": "[encoded data removed]",
      "text/plain": [
       "<Figure size 500x500 with 1 Axes>"
      ]
     },
     "metadata": {},
     "output_type": "display_data"
    }
   ],
   "source": [
    "sns.displot(data=C, x='charges',bins=10)"
   ]
  },
  {
   "cell_type": "markdown",
   "id": "b3f6604e",
   "metadata": {},
   "source": [
    "3a Compute skewness for numeric features"
   ]
  },
  {
   "cell_type": "code",
   "execution_count": 59,
   "id": "4940dbdd",
   "metadata": {},
   "outputs": [
    {
     "data": {
      "text/plain": [
       "age        0.067431\n",
       "bmi        0.264870\n",
       "charges    1.157934\n",
       "dtype: float64"
      ]
     },
     "execution_count": 59,
     "metadata": {},
     "output_type": "execute_result"
    }
   ],
   "source": [
    "C.skew(numeric_only=True)"
   ]
  },
  {
   "cell_type": "markdown",
   "id": "15e6529f",
   "metadata": {},
   "source": [
    "\"\"''The age and bmi columns are not skewed as they have a skewness values of below 0.5 while the charges column is considerably skewed as the skewness value is above 1 but below 3.\n",
    "\n",
    "3b using correlation with heatmap."
   ]
  },
  {
   "cell_type": "code",
   "execution_count": 60,
   "id": "1c227365",
   "metadata": {},
   "outputs": [
    {
     "data": {
      "text/html": [
       "<div>\n",
       "<style scoped>\n",
       "    .dataframe tbody tr th:only-of-type {\n",
       "        vertical-align: middle;\n",
       "    }\n",
       "\n",
       "    .dataframe tbody tr th {\n",
       "        vertical-align: top;\n",
       "    }\n",
       "\n",
       "    .dataframe thead th {\n",
       "        text-align: right;\n",
       "    }\n",
       "</style>\n",
       "<table border=\"1\" class=\"dataframe\">\n",
       "  <thead>\n",
       "    <tr style=\"text-align: right;\">\n",
       "      <th></th>\n",
       "      <th>age</th>\n",
       "      <th>bmi</th>\n",
       "      <th>charges</th>\n",
       "    </tr>\n",
       "  </thead>\n",
       "  <tbody>\n",
       "    <tr>\n",
       "      <th>age</th>\n",
       "      <td>1.000000</td>\n",
       "      <td>0.123907</td>\n",
       "      <td>0.447691</td>\n",
       "    </tr>\n",
       "    <tr>\n",
       "      <th>bmi</th>\n",
       "      <td>0.123907</td>\n",
       "      <td>1.000000</td>\n",
       "      <td>-0.064318</td>\n",
       "    </tr>\n",
       "    <tr>\n",
       "      <th>charges</th>\n",
       "      <td>0.447691</td>\n",
       "      <td>-0.064318</td>\n",
       "      <td>1.000000</td>\n",
       "    </tr>\n",
       "  </tbody>\n",
       "</table>\n",
       "</div>"
      ],
      "text/plain": [
       "              age       bmi   charges\n",
       "age      1.000000  0.123907  0.447691\n",
       "bmi      0.123907  1.000000 -0.064318\n",
       "charges  0.447691 -0.064318  1.000000"
      ]
     },
     "execution_count": 60,
     "metadata": {},
     "output_type": "execute_result"
    }
   ],
   "source": [
    "mymatrix=C.corr(numeric_only=True)\n",
    "mymatrix"
   ]
  },
  {
   "cell_type": "code",
   "execution_count": 61,
   "id": "b83e3b5b",
   "metadata": {},
   "outputs": [
    {
     "data": {
      "image/png": "[encoded data removed]",
      "text/plain": [
       "<Figure size 600x500 with 2 Axes>"
      ]
     },
     "metadata": {},
     "output_type": "display_data"
    }
   ],
   "source": [
    "plt.figure(figsize=(6,5))\n",
    "sns.heatmap(mymatrix,cmap=plt.cm.CMRmap_r,annot=True)\n",
    "plt.show()"
   ]
  },
  {
   "cell_type": "markdown",
   "id": "6cd62d4d",
   "metadata": {},
   "source": [
    "\"\"\"\" the heat map above shows that their is a high correlation between age and charges and very low correlation between bmi and charges."
   ]
  },
  {
   "cell_type": "markdown",
   "id": "6e528fb5",
   "metadata": {},
   "source": [
    "3c. plotting a scatter plot between age and charges, using sex as a hue parameter."
   ]
  },
  {
   "cell_type": "code",
   "execution_count": 62,
   "id": "da0079bc",
   "metadata": {},
   "outputs": [
    {
     "name": "stderr",
     "output_type": "stream",
     "text": [
      "C:\\Users\\Samue\\anaconda3\\Lib\\site-packages\\seaborn\\axisgrid.py:118: UserWarning: The figure layout has changed to tight\n",
      "  self._figure.tight_layout(*args, **kwargs)\n"
     ]
    },
    {
     "data": {
      "text/plain": [
       "<seaborn.axisgrid.FacetGrid at 0x2438a4fff10>"
      ]
     },
     "execution_count": 62,
     "metadata": {},
     "output_type": "execute_result"
    },
    {
     "data": {
      "image/png": "[encoded data removed]",
      "text/plain": [
       "<Figure size 598x500 with 1 Axes>"
      ]
     },
     "metadata": {},
     "output_type": "display_data"
    }
   ],
   "source": [
    "sns.relplot(data=C,x='age',y='charges',hue='sex')"
   ]
  },
  {
   "cell_type": "markdown",
   "id": "a620f9e1",
   "metadata": {},
   "source": [
    "\"\"' the figure above shows that between the ages of 20 and 40, charges are more concentrated between 1000 and 5000. But from 40 to 60 years, charges are more concentrated between 5000 and 15000. Also their are fewer people who paid above 15000 across the ages and sex. Also sex is not a factor of how people are charged."
   ]
  },
  {
   "cell_type": "markdown",
   "id": "8364f2ed",
   "metadata": {},
   "source": [
    "3d. applying a scaling method to at least two independent feature engineering"
   ]
  },
  {
   "cell_type": "code",
   "execution_count": 63,
   "id": "1d09003d",
   "metadata": {},
   "outputs": [
    {
     "data": {
      "text/html": [
       "<div>\n",
       "<style scoped>\n",
       "    .dataframe tbody tr th:only-of-type {\n",
       "        vertical-align: middle;\n",
       "    }\n",
       "\n",
       "    .dataframe tbody tr th {\n",
       "        vertical-align: top;\n",
       "    }\n",
       "\n",
       "    .dataframe thead th {\n",
       "        text-align: right;\n",
       "    }\n",
       "</style>\n",
       "<table border=\"1\" class=\"dataframe\">\n",
       "  <thead>\n",
       "    <tr style=\"text-align: right;\">\n",
       "      <th></th>\n",
       "      <th>age</th>\n",
       "      <th>sex</th>\n",
       "      <th>bmi</th>\n",
       "      <th>children</th>\n",
       "      <th>smoker</th>\n",
       "      <th>region</th>\n",
       "      <th>charges</th>\n",
       "    </tr>\n",
       "  </thead>\n",
       "  <tbody>\n",
       "    <tr>\n",
       "      <th>0</th>\n",
       "      <td>19.0</td>\n",
       "      <td>female</td>\n",
       "      <td>27.900000</td>\n",
       "      <td>0.0</td>\n",
       "      <td>yes</td>\n",
       "      <td>southwest</td>\n",
       "      <td>16884.924000</td>\n",
       "    </tr>\n",
       "    <tr>\n",
       "      <th>1</th>\n",
       "      <td>18.0</td>\n",
       "      <td>male</td>\n",
       "      <td>33.770000</td>\n",
       "      <td>1.0</td>\n",
       "      <td>no</td>\n",
       "      <td>southeast</td>\n",
       "      <td>1725.552300</td>\n",
       "    </tr>\n",
       "    <tr>\n",
       "      <th>2</th>\n",
       "      <td>28.0</td>\n",
       "      <td>male</td>\n",
       "      <td>33.000000</td>\n",
       "      <td>3.0</td>\n",
       "      <td>no</td>\n",
       "      <td>southeast</td>\n",
       "      <td>4449.462000</td>\n",
       "    </tr>\n",
       "    <tr>\n",
       "      <th>3</th>\n",
       "      <td>33.0</td>\n",
       "      <td>male</td>\n",
       "      <td>22.705000</td>\n",
       "      <td>0.0</td>\n",
       "      <td>no</td>\n",
       "      <td>northwest</td>\n",
       "      <td>21984.470610</td>\n",
       "    </tr>\n",
       "    <tr>\n",
       "      <th>4</th>\n",
       "      <td>32.0</td>\n",
       "      <td>male</td>\n",
       "      <td>28.880000</td>\n",
       "      <td>0.0</td>\n",
       "      <td>no</td>\n",
       "      <td>northwest</td>\n",
       "      <td>3866.855200</td>\n",
       "    </tr>\n",
       "    <tr>\n",
       "      <th>...</th>\n",
       "      <td>...</td>\n",
       "      <td>...</td>\n",
       "      <td>...</td>\n",
       "      <td>...</td>\n",
       "      <td>...</td>\n",
       "      <td>...</td>\n",
       "      <td>...</td>\n",
       "    </tr>\n",
       "    <tr>\n",
       "      <th>1335</th>\n",
       "      <td>18.0</td>\n",
       "      <td>female</td>\n",
       "      <td>36.850000</td>\n",
       "      <td>0.0</td>\n",
       "      <td>no</td>\n",
       "      <td>southeast</td>\n",
       "      <td>1629.833500</td>\n",
       "    </tr>\n",
       "    <tr>\n",
       "      <th>1336</th>\n",
       "      <td>21.0</td>\n",
       "      <td>female</td>\n",
       "      <td>25.800000</td>\n",
       "      <td>0.0</td>\n",
       "      <td>no</td>\n",
       "      <td>southwest</td>\n",
       "      <td>2007.945000</td>\n",
       "    </tr>\n",
       "    <tr>\n",
       "      <th>1337</th>\n",
       "      <td>61.0</td>\n",
       "      <td>female</td>\n",
       "      <td>29.070000</td>\n",
       "      <td>0.0</td>\n",
       "      <td>yes</td>\n",
       "      <td>northwest</td>\n",
       "      <td>29141.360300</td>\n",
       "    </tr>\n",
       "    <tr>\n",
       "      <th>1338</th>\n",
       "      <td>27.0</td>\n",
       "      <td>male</td>\n",
       "      <td>30.663397</td>\n",
       "      <td>0.0</td>\n",
       "      <td>no</td>\n",
       "      <td>southeast</td>\n",
       "      <td>13270.422265</td>\n",
       "    </tr>\n",
       "    <tr>\n",
       "      <th>1339</th>\n",
       "      <td>60.0</td>\n",
       "      <td>male</td>\n",
       "      <td>30.663397</td>\n",
       "      <td>0.0</td>\n",
       "      <td>no</td>\n",
       "      <td>southeast</td>\n",
       "      <td>13270.422265</td>\n",
       "    </tr>\n",
       "  </tbody>\n",
       "</table>\n",
       "<p>1192 rows × 7 columns</p>\n",
       "</div>"
      ],
      "text/plain": [
       "       age     sex        bmi children smoker     region       charges\n",
       "0     19.0  female  27.900000      0.0    yes  southwest  16884.924000\n",
       "1     18.0    male  33.770000      1.0     no  southeast   1725.552300\n",
       "2     28.0    male  33.000000      3.0     no  southeast   4449.462000\n",
       "3     33.0    male  22.705000      0.0     no  northwest  21984.470610\n",
       "4     32.0    male  28.880000      0.0     no  northwest   3866.855200\n",
       "...    ...     ...        ...      ...    ...        ...           ...\n",
       "1335  18.0  female  36.850000      0.0     no  southeast   1629.833500\n",
       "1336  21.0  female  25.800000      0.0     no  southwest   2007.945000\n",
       "1337  61.0  female  29.070000      0.0    yes  northwest  29141.360300\n",
       "1338  27.0    male  30.663397      0.0     no  southeast  13270.422265\n",
       "1339  60.0    male  30.663397      0.0     no  southeast  13270.422265\n",
       "\n",
       "[1192 rows x 7 columns]"
      ]
     },
     "execution_count": 63,
     "metadata": {},
     "output_type": "execute_result"
    }
   ],
   "source": [
    "C"
   ]
  },
  {
   "cell_type": "markdown",
   "id": "ace3c017",
   "metadata": {},
   "source": [
    "3d. Applying a scaling method to two independent features Feature engineering"
   ]
  },
  {
   "cell_type": "code",
   "execution_count": 64,
   "id": "95a8d271",
   "metadata": {},
   "outputs": [
    {
     "name": "stdout",
     "output_type": "stream",
     "text": [
      "[[0.02173913]\n",
      " [0.        ]\n",
      " [0.2173913 ]\n",
      " ...\n",
      " [0.93478261]\n",
      " [0.19565217]\n",
      " [0.91304348]]\n"
     ]
    }
   ],
   "source": [
    "#using MinMaxScaler() for Min max Scaling\n",
    "scaler=MinMaxScaler()\n",
    "X=C[['age']]\n",
    "X_scaled=scaler.fit_transform(X)\n",
    "print(X_scaled)\n",
    "C['age']=X_scaled"
   ]
  },
  {
   "cell_type": "code",
   "execution_count": 65,
   "id": "2db7f285",
   "metadata": {},
   "outputs": [
    {
     "name": "stdout",
     "output_type": "stream",
     "text": [
      "[[0.38778824]\n",
      " [0.57843456]\n",
      " [0.55342644]\n",
      " ...\n",
      " [0.42578759]\n",
      " [0.47753806]\n",
      " [0.47753806]]\n"
     ]
    }
   ],
   "source": [
    "scaler=MinMaxScaler()\n",
    "Y=C[['bmi']]\n",
    "Y_scaled=scaler.fit_transform(Y)\n",
    "print(Y_scaled)\n",
    "C['bmi']=Y_scaled"
   ]
  },
  {
   "cell_type": "code",
   "execution_count": 66,
   "id": "61eab66a",
   "metadata": {},
   "outputs": [
    {
     "data": {
      "text/html": [
       "<div>\n",
       "<style scoped>\n",
       "    .dataframe tbody tr th:only-of-type {\n",
       "        vertical-align: middle;\n",
       "    }\n",
       "\n",
       "    .dataframe tbody tr th {\n",
       "        vertical-align: top;\n",
       "    }\n",
       "\n",
       "    .dataframe thead th {\n",
       "        text-align: right;\n",
       "    }\n",
       "</style>\n",
       "<table border=\"1\" class=\"dataframe\">\n",
       "  <thead>\n",
       "    <tr style=\"text-align: right;\">\n",
       "      <th></th>\n",
       "      <th>age</th>\n",
       "      <th>sex</th>\n",
       "      <th>bmi</th>\n",
       "      <th>children</th>\n",
       "      <th>smoker</th>\n",
       "      <th>region</th>\n",
       "      <th>charges</th>\n",
       "    </tr>\n",
       "  </thead>\n",
       "  <tbody>\n",
       "    <tr>\n",
       "      <th>0</th>\n",
       "      <td>0.021739</td>\n",
       "      <td>female</td>\n",
       "      <td>0.387788</td>\n",
       "      <td>0.0</td>\n",
       "      <td>yes</td>\n",
       "      <td>southwest</td>\n",
       "      <td>16884.924000</td>\n",
       "    </tr>\n",
       "    <tr>\n",
       "      <th>1</th>\n",
       "      <td>0.000000</td>\n",
       "      <td>male</td>\n",
       "      <td>0.578435</td>\n",
       "      <td>1.0</td>\n",
       "      <td>no</td>\n",
       "      <td>southeast</td>\n",
       "      <td>1725.552300</td>\n",
       "    </tr>\n",
       "    <tr>\n",
       "      <th>2</th>\n",
       "      <td>0.217391</td>\n",
       "      <td>male</td>\n",
       "      <td>0.553426</td>\n",
       "      <td>3.0</td>\n",
       "      <td>no</td>\n",
       "      <td>southeast</td>\n",
       "      <td>4449.462000</td>\n",
       "    </tr>\n",
       "    <tr>\n",
       "      <th>3</th>\n",
       "      <td>0.326087</td>\n",
       "      <td>male</td>\n",
       "      <td>0.219065</td>\n",
       "      <td>0.0</td>\n",
       "      <td>no</td>\n",
       "      <td>northwest</td>\n",
       "      <td>21984.470610</td>\n",
       "    </tr>\n",
       "    <tr>\n",
       "      <th>4</th>\n",
       "      <td>0.304348</td>\n",
       "      <td>male</td>\n",
       "      <td>0.419617</td>\n",
       "      <td>0.0</td>\n",
       "      <td>no</td>\n",
       "      <td>northwest</td>\n",
       "      <td>3866.855200</td>\n",
       "    </tr>\n",
       "    <tr>\n",
       "      <th>...</th>\n",
       "      <td>...</td>\n",
       "      <td>...</td>\n",
       "      <td>...</td>\n",
       "      <td>...</td>\n",
       "      <td>...</td>\n",
       "      <td>...</td>\n",
       "      <td>...</td>\n",
       "    </tr>\n",
       "    <tr>\n",
       "      <th>1335</th>\n",
       "      <td>0.000000</td>\n",
       "      <td>female</td>\n",
       "      <td>0.678467</td>\n",
       "      <td>0.0</td>\n",
       "      <td>no</td>\n",
       "      <td>southeast</td>\n",
       "      <td>1629.833500</td>\n",
       "    </tr>\n",
       "    <tr>\n",
       "      <th>1336</th>\n",
       "      <td>0.065217</td>\n",
       "      <td>female</td>\n",
       "      <td>0.319584</td>\n",
       "      <td>0.0</td>\n",
       "      <td>no</td>\n",
       "      <td>southwest</td>\n",
       "      <td>2007.945000</td>\n",
       "    </tr>\n",
       "    <tr>\n",
       "      <th>1337</th>\n",
       "      <td>0.934783</td>\n",
       "      <td>female</td>\n",
       "      <td>0.425788</td>\n",
       "      <td>0.0</td>\n",
       "      <td>yes</td>\n",
       "      <td>northwest</td>\n",
       "      <td>29141.360300</td>\n",
       "    </tr>\n",
       "    <tr>\n",
       "      <th>1338</th>\n",
       "      <td>0.195652</td>\n",
       "      <td>male</td>\n",
       "      <td>0.477538</td>\n",
       "      <td>0.0</td>\n",
       "      <td>no</td>\n",
       "      <td>southeast</td>\n",
       "      <td>13270.422265</td>\n",
       "    </tr>\n",
       "    <tr>\n",
       "      <th>1339</th>\n",
       "      <td>0.913043</td>\n",
       "      <td>male</td>\n",
       "      <td>0.477538</td>\n",
       "      <td>0.0</td>\n",
       "      <td>no</td>\n",
       "      <td>southeast</td>\n",
       "      <td>13270.422265</td>\n",
       "    </tr>\n",
       "  </tbody>\n",
       "</table>\n",
       "<p>1192 rows × 7 columns</p>\n",
       "</div>"
      ],
      "text/plain": [
       "           age     sex       bmi children smoker     region       charges\n",
       "0     0.021739  female  0.387788      0.0    yes  southwest  16884.924000\n",
       "1     0.000000    male  0.578435      1.0     no  southeast   1725.552300\n",
       "2     0.217391    male  0.553426      3.0     no  southeast   4449.462000\n",
       "3     0.326087    male  0.219065      0.0     no  northwest  21984.470610\n",
       "4     0.304348    male  0.419617      0.0     no  northwest   3866.855200\n",
       "...        ...     ...       ...      ...    ...        ...           ...\n",
       "1335  0.000000  female  0.678467      0.0     no  southeast   1629.833500\n",
       "1336  0.065217  female  0.319584      0.0     no  southwest   2007.945000\n",
       "1337  0.934783  female  0.425788      0.0    yes  northwest  29141.360300\n",
       "1338  0.195652    male  0.477538      0.0     no  southeast  13270.422265\n",
       "1339  0.913043    male  0.477538      0.0     no  southeast  13270.422265\n",
       "\n",
       "[1192 rows x 7 columns]"
      ]
     },
     "execution_count": 66,
     "metadata": {},
     "output_type": "execute_result"
    }
   ],
   "source": [
    "C"
   ]
  },
  {
   "cell_type": "markdown",
   "id": "da045432",
   "metadata": {},
   "source": [
    "4. converting categorical features into numeric one using appropriate encoding technique"
   ]
  },
  {
   "cell_type": "code",
   "execution_count": 67,
   "id": "7949bb6d",
   "metadata": {},
   "outputs": [
    {
     "name": "stdout",
     "output_type": "stream",
     "text": [
      "['female', 'male']\n",
      "Categories (2, object): ['female', 'male']\n",
      "0       female\n",
      "1         male\n",
      "2         male\n",
      "3         male\n",
      "4         male\n",
      "         ...  \n",
      "1335    female\n",
      "1336    female\n",
      "1337    female\n",
      "1338      male\n",
      "1339      male\n",
      "Name: sex, Length: 1192, dtype: category\n",
      "Categories (2, object): ['female', 'male']\n",
      "['female' 'male']\n"
     ]
    },
    {
     "data": {
      "text/plain": [
       "array([0, 1, 1, ..., 0, 1, 1])"
      ]
     },
     "execution_count": 67,
     "metadata": {},
     "output_type": "execute_result"
    }
   ],
   "source": [
    "print(C['sex'].unique())\n",
    "sex_encoder=LabelEncoder()\n",
    "print(C['sex'])\n",
    "sex_encoder.fit(C['sex'])  #mapping table created\n",
    "sex_values=sex_encoder.transform(C['sex'])\n",
    "C['sex']= sex_values\n",
    "print(sex_encoder.classes_)\n",
    "sex_values"
   ]
  },
  {
   "cell_type": "code",
   "execution_count": 68,
   "id": "e1a776fe",
   "metadata": {},
   "outputs": [
    {
     "data": {
      "text/html": [
       "<div>\n",
       "<style scoped>\n",
       "    .dataframe tbody tr th:only-of-type {\n",
       "        vertical-align: middle;\n",
       "    }\n",
       "\n",
       "    .dataframe tbody tr th {\n",
       "        vertical-align: top;\n",
       "    }\n",
       "\n",
       "    .dataframe thead th {\n",
       "        text-align: right;\n",
       "    }\n",
       "</style>\n",
       "<table border=\"1\" class=\"dataframe\">\n",
       "  <thead>\n",
       "    <tr style=\"text-align: right;\">\n",
       "      <th></th>\n",
       "      <th>age</th>\n",
       "      <th>sex</th>\n",
       "      <th>bmi</th>\n",
       "      <th>children</th>\n",
       "      <th>smoker</th>\n",
       "      <th>region</th>\n",
       "      <th>charges</th>\n",
       "    </tr>\n",
       "  </thead>\n",
       "  <tbody>\n",
       "    <tr>\n",
       "      <th>0</th>\n",
       "      <td>0.021739</td>\n",
       "      <td>0</td>\n",
       "      <td>0.387788</td>\n",
       "      <td>0.0</td>\n",
       "      <td>yes</td>\n",
       "      <td>southwest</td>\n",
       "      <td>16884.924000</td>\n",
       "    </tr>\n",
       "    <tr>\n",
       "      <th>1</th>\n",
       "      <td>0.000000</td>\n",
       "      <td>1</td>\n",
       "      <td>0.578435</td>\n",
       "      <td>1.0</td>\n",
       "      <td>no</td>\n",
       "      <td>southeast</td>\n",
       "      <td>1725.552300</td>\n",
       "    </tr>\n",
       "    <tr>\n",
       "      <th>2</th>\n",
       "      <td>0.217391</td>\n",
       "      <td>1</td>\n",
       "      <td>0.553426</td>\n",
       "      <td>3.0</td>\n",
       "      <td>no</td>\n",
       "      <td>southeast</td>\n",
       "      <td>4449.462000</td>\n",
       "    </tr>\n",
       "    <tr>\n",
       "      <th>3</th>\n",
       "      <td>0.326087</td>\n",
       "      <td>1</td>\n",
       "      <td>0.219065</td>\n",
       "      <td>0.0</td>\n",
       "      <td>no</td>\n",
       "      <td>northwest</td>\n",
       "      <td>21984.470610</td>\n",
       "    </tr>\n",
       "    <tr>\n",
       "      <th>4</th>\n",
       "      <td>0.304348</td>\n",
       "      <td>1</td>\n",
       "      <td>0.419617</td>\n",
       "      <td>0.0</td>\n",
       "      <td>no</td>\n",
       "      <td>northwest</td>\n",
       "      <td>3866.855200</td>\n",
       "    </tr>\n",
       "    <tr>\n",
       "      <th>...</th>\n",
       "      <td>...</td>\n",
       "      <td>...</td>\n",
       "      <td>...</td>\n",
       "      <td>...</td>\n",
       "      <td>...</td>\n",
       "      <td>...</td>\n",
       "      <td>...</td>\n",
       "    </tr>\n",
       "    <tr>\n",
       "      <th>1335</th>\n",
       "      <td>0.000000</td>\n",
       "      <td>0</td>\n",
       "      <td>0.678467</td>\n",
       "      <td>0.0</td>\n",
       "      <td>no</td>\n",
       "      <td>southeast</td>\n",
       "      <td>1629.833500</td>\n",
       "    </tr>\n",
       "    <tr>\n",
       "      <th>1336</th>\n",
       "      <td>0.065217</td>\n",
       "      <td>0</td>\n",
       "      <td>0.319584</td>\n",
       "      <td>0.0</td>\n",
       "      <td>no</td>\n",
       "      <td>southwest</td>\n",
       "      <td>2007.945000</td>\n",
       "    </tr>\n",
       "    <tr>\n",
       "      <th>1337</th>\n",
       "      <td>0.934783</td>\n",
       "      <td>0</td>\n",
       "      <td>0.425788</td>\n",
       "      <td>0.0</td>\n",
       "      <td>yes</td>\n",
       "      <td>northwest</td>\n",
       "      <td>29141.360300</td>\n",
       "    </tr>\n",
       "    <tr>\n",
       "      <th>1338</th>\n",
       "      <td>0.195652</td>\n",
       "      <td>1</td>\n",
       "      <td>0.477538</td>\n",
       "      <td>0.0</td>\n",
       "      <td>no</td>\n",
       "      <td>southeast</td>\n",
       "      <td>13270.422265</td>\n",
       "    </tr>\n",
       "    <tr>\n",
       "      <th>1339</th>\n",
       "      <td>0.913043</td>\n",
       "      <td>1</td>\n",
       "      <td>0.477538</td>\n",
       "      <td>0.0</td>\n",
       "      <td>no</td>\n",
       "      <td>southeast</td>\n",
       "      <td>13270.422265</td>\n",
       "    </tr>\n",
       "  </tbody>\n",
       "</table>\n",
       "<p>1192 rows × 7 columns</p>\n",
       "</div>"
      ],
      "text/plain": [
       "           age  sex       bmi children smoker     region       charges\n",
       "0     0.021739    0  0.387788      0.0    yes  southwest  16884.924000\n",
       "1     0.000000    1  0.578435      1.0     no  southeast   1725.552300\n",
       "2     0.217391    1  0.553426      3.0     no  southeast   4449.462000\n",
       "3     0.326087    1  0.219065      0.0     no  northwest  21984.470610\n",
       "4     0.304348    1  0.419617      0.0     no  northwest   3866.855200\n",
       "...        ...  ...       ...      ...    ...        ...           ...\n",
       "1335  0.000000    0  0.678467      0.0     no  southeast   1629.833500\n",
       "1336  0.065217    0  0.319584      0.0     no  southwest   2007.945000\n",
       "1337  0.934783    0  0.425788      0.0    yes  northwest  29141.360300\n",
       "1338  0.195652    1  0.477538      0.0     no  southeast  13270.422265\n",
       "1339  0.913043    1  0.477538      0.0     no  southeast  13270.422265\n",
       "\n",
       "[1192 rows x 7 columns]"
      ]
     },
     "execution_count": 68,
     "metadata": {},
     "output_type": "execute_result"
    }
   ],
   "source": [
    "C"
   ]
  },
  {
   "cell_type": "code",
   "execution_count": 69,
   "id": "453e8b4e",
   "metadata": {},
   "outputs": [
    {
     "name": "stdout",
     "output_type": "stream",
     "text": [
      "['yes', 'no']\n",
      "Categories (2, object): ['no', 'yes']\n",
      "0       yes\n",
      "1        no\n",
      "2        no\n",
      "3        no\n",
      "4        no\n",
      "       ... \n",
      "1335     no\n",
      "1336     no\n",
      "1337    yes\n",
      "1338     no\n",
      "1339     no\n",
      "Name: smoker, Length: 1192, dtype: category\n",
      "Categories (2, object): ['no', 'yes']\n",
      "['no' 'yes']\n"
     ]
    },
    {
     "data": {
      "text/plain": [
       "array([1, 0, 0, ..., 1, 0, 0])"
      ]
     },
     "execution_count": 69,
     "metadata": {},
     "output_type": "execute_result"
    }
   ],
   "source": [
    "print(C['smoker'].unique())\n",
    "smoker_encoder=LabelEncoder()\n",
    "print(C['smoker'])\n",
    "smoker_encoder.fit(C['smoker'])  #mapping table created\n",
    "smoker_values=smoker_encoder.transform(C['smoker'])\n",
    "C['smoker']= smoker_values\n",
    "print(smoker_encoder.classes_)\n",
    "smoker_values"
   ]
  },
  {
   "cell_type": "code",
   "execution_count": 70,
   "id": "da02e3f8",
   "metadata": {},
   "outputs": [
    {
     "name": "stdout",
     "output_type": "stream",
     "text": [
      "['southwest', 'southeast', 'northwest', 'northeast']\n",
      "Categories (4, object): ['northeast', 'northwest', 'southeast', 'southwest']\n",
      "0       southwest\n",
      "1       southeast\n",
      "2       southeast\n",
      "3       northwest\n",
      "4       northwest\n",
      "          ...    \n",
      "1335    southeast\n",
      "1336    southwest\n",
      "1337    northwest\n",
      "1338    southeast\n",
      "1339    southeast\n",
      "Name: region, Length: 1192, dtype: category\n",
      "Categories (4, object): ['northeast', 'northwest', 'southeast', 'southwest']\n",
      "['northeast' 'northwest' 'southeast' 'southwest']\n"
     ]
    },
    {
     "data": {
      "text/plain": [
       "array([3, 2, 2, ..., 1, 2, 2])"
      ]
     },
     "execution_count": 70,
     "metadata": {},
     "output_type": "execute_result"
    }
   ],
   "source": [
    "print(C['region'].unique())\n",
    "region_encoder=LabelEncoder()\n",
    "print(C['region'])\n",
    "region_encoder.fit(C['region'])\n",
    "region_values=region_encoder.transform(C['region'])\n",
    "C['region']= region_values\n",
    "print(region_encoder.classes_)\n",
    "region_values"
   ]
  },
  {
   "cell_type": "code",
   "execution_count": 71,
   "id": "5e97337c",
   "metadata": {},
   "outputs": [
    {
     "data": {
      "text/html": [
       "<div>\n",
       "<style scoped>\n",
       "    .dataframe tbody tr th:only-of-type {\n",
       "        vertical-align: middle;\n",
       "    }\n",
       "\n",
       "    .dataframe tbody tr th {\n",
       "        vertical-align: top;\n",
       "    }\n",
       "\n",
       "    .dataframe thead th {\n",
       "        text-align: right;\n",
       "    }\n",
       "</style>\n",
       "<table border=\"1\" class=\"dataframe\">\n",
       "  <thead>\n",
       "    <tr style=\"text-align: right;\">\n",
       "      <th></th>\n",
       "      <th>age</th>\n",
       "      <th>sex</th>\n",
       "      <th>bmi</th>\n",
       "      <th>children</th>\n",
       "      <th>smoker</th>\n",
       "      <th>region</th>\n",
       "      <th>charges</th>\n",
       "    </tr>\n",
       "  </thead>\n",
       "  <tbody>\n",
       "    <tr>\n",
       "      <th>0</th>\n",
       "      <td>0.021739</td>\n",
       "      <td>0</td>\n",
       "      <td>0.387788</td>\n",
       "      <td>0.0</td>\n",
       "      <td>1</td>\n",
       "      <td>3</td>\n",
       "      <td>16884.924000</td>\n",
       "    </tr>\n",
       "    <tr>\n",
       "      <th>1</th>\n",
       "      <td>0.000000</td>\n",
       "      <td>1</td>\n",
       "      <td>0.578435</td>\n",
       "      <td>1.0</td>\n",
       "      <td>0</td>\n",
       "      <td>2</td>\n",
       "      <td>1725.552300</td>\n",
       "    </tr>\n",
       "    <tr>\n",
       "      <th>2</th>\n",
       "      <td>0.217391</td>\n",
       "      <td>1</td>\n",
       "      <td>0.553426</td>\n",
       "      <td>3.0</td>\n",
       "      <td>0</td>\n",
       "      <td>2</td>\n",
       "      <td>4449.462000</td>\n",
       "    </tr>\n",
       "    <tr>\n",
       "      <th>3</th>\n",
       "      <td>0.326087</td>\n",
       "      <td>1</td>\n",
       "      <td>0.219065</td>\n",
       "      <td>0.0</td>\n",
       "      <td>0</td>\n",
       "      <td>1</td>\n",
       "      <td>21984.470610</td>\n",
       "    </tr>\n",
       "    <tr>\n",
       "      <th>4</th>\n",
       "      <td>0.304348</td>\n",
       "      <td>1</td>\n",
       "      <td>0.419617</td>\n",
       "      <td>0.0</td>\n",
       "      <td>0</td>\n",
       "      <td>1</td>\n",
       "      <td>3866.855200</td>\n",
       "    </tr>\n",
       "    <tr>\n",
       "      <th>...</th>\n",
       "      <td>...</td>\n",
       "      <td>...</td>\n",
       "      <td>...</td>\n",
       "      <td>...</td>\n",
       "      <td>...</td>\n",
       "      <td>...</td>\n",
       "      <td>...</td>\n",
       "    </tr>\n",
       "    <tr>\n",
       "      <th>1335</th>\n",
       "      <td>0.000000</td>\n",
       "      <td>0</td>\n",
       "      <td>0.678467</td>\n",
       "      <td>0.0</td>\n",
       "      <td>0</td>\n",
       "      <td>2</td>\n",
       "      <td>1629.833500</td>\n",
       "    </tr>\n",
       "    <tr>\n",
       "      <th>1336</th>\n",
       "      <td>0.065217</td>\n",
       "      <td>0</td>\n",
       "      <td>0.319584</td>\n",
       "      <td>0.0</td>\n",
       "      <td>0</td>\n",
       "      <td>3</td>\n",
       "      <td>2007.945000</td>\n",
       "    </tr>\n",
       "    <tr>\n",
       "      <th>1337</th>\n",
       "      <td>0.934783</td>\n",
       "      <td>0</td>\n",
       "      <td>0.425788</td>\n",
       "      <td>0.0</td>\n",
       "      <td>1</td>\n",
       "      <td>1</td>\n",
       "      <td>29141.360300</td>\n",
       "    </tr>\n",
       "    <tr>\n",
       "      <th>1338</th>\n",
       "      <td>0.195652</td>\n",
       "      <td>1</td>\n",
       "      <td>0.477538</td>\n",
       "      <td>0.0</td>\n",
       "      <td>0</td>\n",
       "      <td>2</td>\n",
       "      <td>13270.422265</td>\n",
       "    </tr>\n",
       "    <tr>\n",
       "      <th>1339</th>\n",
       "      <td>0.913043</td>\n",
       "      <td>1</td>\n",
       "      <td>0.477538</td>\n",
       "      <td>0.0</td>\n",
       "      <td>0</td>\n",
       "      <td>2</td>\n",
       "      <td>13270.422265</td>\n",
       "    </tr>\n",
       "  </tbody>\n",
       "</table>\n",
       "<p>1192 rows × 7 columns</p>\n",
       "</div>"
      ],
      "text/plain": [
       "           age  sex       bmi children  smoker  region       charges\n",
       "0     0.021739    0  0.387788      0.0       1       3  16884.924000\n",
       "1     0.000000    1  0.578435      1.0       0       2   1725.552300\n",
       "2     0.217391    1  0.553426      3.0       0       2   4449.462000\n",
       "3     0.326087    1  0.219065      0.0       0       1  21984.470610\n",
       "4     0.304348    1  0.419617      0.0       0       1   3866.855200\n",
       "...        ...  ...       ...      ...     ...     ...           ...\n",
       "1335  0.000000    0  0.678467      0.0       0       2   1629.833500\n",
       "1336  0.065217    0  0.319584      0.0       0       3   2007.945000\n",
       "1337  0.934783    0  0.425788      0.0       1       1  29141.360300\n",
       "1338  0.195652    1  0.477538      0.0       0       2  13270.422265\n",
       "1339  0.913043    1  0.477538      0.0       0       2  13270.422265\n",
       "\n",
       "[1192 rows x 7 columns]"
      ]
     },
     "execution_count": 71,
     "metadata": {},
     "output_type": "execute_result"
    }
   ],
   "source": [
    "C"
   ]
  },
  {
   "cell_type": "code",
   "execution_count": 72,
   "id": "49e06959",
   "metadata": {},
   "outputs": [
    {
     "data": {
      "text/plain": [
       "(1192, 7)"
      ]
     },
     "execution_count": 72,
     "metadata": {},
     "output_type": "execute_result"
    }
   ],
   "source": [
    "C.shape"
   ]
  },
  {
   "cell_type": "markdown",
   "id": "46131560",
   "metadata": {},
   "source": [
    "5.  Considering ‘charges’ column is y_variable (Regression variable). Apply any \n",
    "feature selection method to it to reduce the dataset size to four features"
   ]
  },
  {
   "cell_type": "code",
   "execution_count": 73,
   "id": "a355ceec",
   "metadata": {},
   "outputs": [
    {
     "name": "stdout",
     "output_type": "stream",
     "text": [
      "(1192,)\n",
      "(1192, 6)\n"
     ]
    }
   ],
   "source": [
    "# I will subdivide the C dataset into two variables X & Y. X will be the independent variable and Y will be the dependent variable.\n",
    "Y=C['charges']\n",
    "X=C.drop(['charges'], axis=1)\n",
    "\n",
    "print(Y.shape)\n",
    "print(X.shape)"
   ]
  },
  {
   "cell_type": "code",
   "execution_count": 74,
   "id": "107ce51e",
   "metadata": {},
   "outputs": [
    {
     "name": "stdout",
     "output_type": "stream",
     "text": [
      "charges\n",
      "13270.422265    2\n",
      "8688.858850     1\n",
      "1634.573400     1\n",
      "2221.564450     1\n",
      "19798.054550    1\n",
      "               ..\n",
      "4032.240700     1\n",
      "7512.267000     1\n",
      "4762.329000     1\n",
      "5910.944000     1\n",
      "4837.582300     1\n",
      "Name: count, Length: 1191, dtype: int64\n",
      "Index(['age', 'sex', 'bmi', 'children', 'smoker', 'region'], dtype='object')\n"
     ]
    }
   ],
   "source": [
    "print(Y.value_counts())\n",
    "print(X.columns)"
   ]
  },
  {
   "cell_type": "code",
   "execution_count": 75,
   "id": "a27c43c0",
   "metadata": {},
   "outputs": [
    {
     "name": "stdout",
     "output_type": "stream",
     "text": [
      "(834, 6)\n",
      "(358, 6)\n",
      "(834,)\n",
      "(358,)\n",
      "charges\n",
      "13270.422265    2\n",
      "8688.858850     1\n",
      "1634.573400     1\n",
      "2221.564450     1\n",
      "19798.054550    1\n",
      "               ..\n",
      "4032.240700     1\n",
      "7512.267000     1\n",
      "4762.329000     1\n",
      "5910.944000     1\n",
      "4837.582300     1\n",
      "Name: count, Length: 1191, dtype: int64\n",
      "charges\n",
      "13270.422265    2\n",
      "3500.612300     1\n",
      "12981.345700    1\n",
      "12648.703400    1\n",
      "4340.440900     1\n",
      "               ..\n",
      "8527.532000     1\n",
      "10807.486300    1\n",
      "2404.733800     1\n",
      "10982.501300    1\n",
      "7133.902500     1\n",
      "Name: count, Length: 833, dtype: int64\n",
      "charges\n",
      "1694.79640     1\n",
      "17904.52705    1\n",
      "3704.35450     1\n",
      "4402.23300     1\n",
      "15612.19335    1\n",
      "              ..\n",
      "9724.53000     1\n",
      "8334.58960     1\n",
      "9872.70100     1\n",
      "23967.38305    1\n",
      "8233.09750     1\n",
      "Name: count, Length: 358, dtype: int64\n"
     ]
    }
   ],
   "source": [
    "X_train, X_test, Y_train, Y_test= train_test_split(X,Y, random_state=10, test_size=0.3,) \n",
    "print(X_train.shape)\n",
    "print(X_test.shape)\n",
    "print(Y_train.shape)\n",
    "print(Y_test.shape)\n",
    "print(Y.value_counts())\n",
    "print(Y_train.value_counts())\n",
    "print(Y_test.value_counts())"
   ]
  },
  {
   "cell_type": "code",
   "execution_count": 77,
   "id": "ae2c301f",
   "metadata": {},
   "outputs": [
    {
     "data": {
      "image/png": "[encoded data removed]",
      "text/plain": [
       "<Figure size 800x600 with 2 Axes>"
      ]
     },
     "metadata": {},
     "output_type": "display_data"
    }
   ],
   "source": [
    "#using Pearson Correlation\n",
    "###Unsupervised\n",
    "cor=X_train.corr()\n",
    "plt.figure(figsize=(8,6))\n",
    "sns.heatmap(cor,cmap=plt.cm.CMRmap_r,annot=True)\n",
    "plt.show()"
   ]
  },
  {
   "cell_type": "code",
   "execution_count": 78,
   "id": "9a519f18",
   "metadata": {},
   "outputs": [],
   "source": [
    "#finding the correlated features\n",
    "def correlation(dataset, threshold):\n",
    "    corr_pairs=tuple()\n",
    "    all_pairs=[]\n",
    "    corr_matrix=dataset.corr()\n",
    "    for i in range(len(corr_matrix.columns)):\n",
    "        for j in range(i):\n",
    "            if abs(corr_matrix.iloc[i,j])> threshold:\n",
    "                print(abs(corr_matrix.iloc[i,j]))\n",
    "                corr_pairs=(corr_matrix.columns[i],corr_matrix.columns[j],corr_matrix.iloc[i,j])\n",
    "                all_pairs.append(corr_pairs)\n",
    "    return all_pairs"
   ]
  },
  {
   "cell_type": "code",
   "execution_count": 79,
   "id": "22e5e779",
   "metadata": {},
   "outputs": [
    {
     "name": "stdout",
     "output_type": "stream",
     "text": [
      "0.10210289854135297\n",
      "0.11734202408530944\n",
      "0.2729058784238787\n",
      "0.17476691237559255\n"
     ]
    },
    {
     "data": {
      "text/plain": [
       "[('bmi', 'age', 0.10210289854135297),\n",
       " ('smoker', 'age', -0.11734202408530944),\n",
       " ('smoker', 'bmi', -0.2729058784238787),\n",
       " ('region', 'bmi', 0.17476691237559255)]"
      ]
     },
     "execution_count": 79,
     "metadata": {},
     "output_type": "execute_result"
    }
   ],
   "source": [
    "corr_feature_pairs= correlation(X_train, 0.1) #0.6 as threshold will return all corr values >+or- 0.6\n",
    "corr_feature_pairs"
   ]
  },
  {
   "cell_type": "code",
   "execution_count": 80,
   "id": "f5910132",
   "metadata": {},
   "outputs": [],
   "source": [
    "#to reduce the size of my dataset, i will single out only columns with high correlation.\n",
    "corr_features=['bmi','smoker']"
   ]
  },
  {
   "cell_type": "code",
   "execution_count": 81,
   "id": "ea753bd8",
   "metadata": {},
   "outputs": [
    {
     "name": "stdout",
     "output_type": "stream",
     "text": [
      "(834, 6)\n",
      "(358, 6)\n"
     ]
    }
   ],
   "source": [
    "print(X_train.shape)\n",
    "print(X_test.shape)"
   ]
  },
  {
   "cell_type": "code",
   "execution_count": 82,
   "id": "fd2cba11",
   "metadata": {},
   "outputs": [
    {
     "name": "stdout",
     "output_type": "stream",
     "text": [
      "(834, 4)\n",
      "(358, 4)\n"
     ]
    }
   ],
   "source": [
    "#removing correlated features\n",
    "X_train.drop(corr_features, axis=1, inplace=True) \n",
    "X_test.drop(corr_features, axis=1, inplace=True)\n",
    "print(X_train.shape)\n",
    "print(X_test.shape)"
   ]
  },
  {
   "cell_type": "code",
   "execution_count": 83,
   "id": "84cfb65b",
   "metadata": {},
   "outputs": [
    {
     "data": {
      "text/plain": [
       "Index(['age', 'sex', 'children', 'region'], dtype='object')"
      ]
     },
     "execution_count": 83,
     "metadata": {},
     "output_type": "execute_result"
    }
   ],
   "source": [
    "X_train.columns"
   ]
  },
  {
   "cell_type": "code",
   "execution_count": null,
   "id": "65d8377f",
   "metadata": {},
   "outputs": [],
   "source": []
  },
  {
   "cell_type": "code",
   "execution_count": null,
   "id": "8bb16430",
   "metadata": {},
   "outputs": [],
   "source": []
  }
 ],
 "metadata": {
  "kernelspec": {
   "display_name": "Python 3 (ipykernel)",
   "language": "python",
   "name": "python3"
  },
  "language_info": {
   "codemirror_mode": {
    "name": "ipython",
    "version": 3
   },
   "file_extension": ".py",
   "mimetype": "text/x-python",
   "name": "python",
   "nbconvert_exporter": "python",
   "pygments_lexer": "ipython3",
   "version": "3.11.5"
  }
 },
 "nbformat": 4,
 "nbformat_minor": 5
}
